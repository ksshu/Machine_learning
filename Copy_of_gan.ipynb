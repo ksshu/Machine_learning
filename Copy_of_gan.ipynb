{
  "nbformat": 4,
  "nbformat_minor": 0,
  "metadata": {
    "accelerator": "TPU",
    "colab": {
      "name": "Copy of gan.ipynb",
      "provenance": [],
      "collapsed_sections": [],
      "machine_shape": "hm",
      "include_colab_link": true
    },
    "kernelspec": {
      "display_name": "Python 3",
      "name": "python3"
    },
    "language_info": {
      "name": "python"
    }
  },
  "cells": [
    {
      "cell_type": "markdown",
      "metadata": {
        "id": "view-in-github",
        "colab_type": "text"
      },
      "source": [
        "<a href=\"https://colab.research.google.com/github/ksshu/Machine_learning/blob/main/Copy_of_gan.ipynb\" target=\"_parent\"><img src=\"https://colab.research.google.com/assets/colab-badge.svg\" alt=\"Open In Colab\"/></a>"
      ]
    },
    {
      "cell_type": "code",
      "metadata": {
        "colab": {
          "base_uri": "https://localhost:8080/"
        },
        "id": "pOkzsiIeXm6l",
        "outputId": "f87db094-59d0-46b2-8484-4213f92547b4"
      },
      "source": [
        "from google.colab import drive\n",
        "drive.mount('/content/drive')"
      ],
      "execution_count": null,
      "outputs": [
        {
          "output_type": "stream",
          "name": "stdout",
          "text": [
            "Mounted at /content/drive\n"
          ]
        }
      ]
    },
    {
      "cell_type": "code",
      "metadata": {
        "id": "ugSFdt4InqG4",
        "colab": {
          "base_uri": "https://localhost:8080/"
        },
        "outputId": "e3a191ba-9010-488a-8cdd-f7ffc92b2448"
      },
      "source": [
        "#! ls /content/drive/MyDrive/denoise/gan/deep-sesr/deep-sesr\n",
        "! ls /content/drive/MyDrive/Datasets/deep-sesr/"
      ],
      "execution_count": null,
      "outputs": [
        {
          "output_type": "stream",
          "name": "stdout",
          "text": [
            " test_p0_.jpg\t  test_p239_.jpg        test_p381_.jpg\t test_p514_.jpg\n",
            " test_p100_.jpg   test_p23_.jpg         test_p382_.jpg\t test_p515_.jpg\n",
            " test_p101_.jpg   test_p240_.jpg        test_p383_.jpg\t test_p516_.jpg\n",
            " test_p102_.jpg   test_p241_.jpg        test_p384_.jpg\t test_p517_.jpg\n",
            " test_p104_.jpg   test_p242_.jpg        test_p385_.jpg\t test_p518_.jpg\n",
            " test_p105_.jpg   test_p243_.jpg        test_p386_.jpg\t test_p519_.jpg\n",
            " test_p106_.jpg   test_p244_.jpg        test_p387_.jpg\t test_p51_.jpg\n",
            " test_p107_.jpg   test_p245_.jpg        test_p388_.jpg\t test_p520_.jpg\n",
            " test_p109_.jpg   test_p246_.jpg        test_p389_.jpg\t test_p521_.jpg\n",
            " test_p110_.jpg   test_p247_.jpg        test_p38_.jpg\t test_p522_.jpg\n",
            " test_p112_.jpg   test_p248_.jpg        test_p390_.jpg\t test_p523_.jpg\n",
            " test_p113_.jpg   test_p249_.jpg        test_p393_.jpg\t test_p524_.jpg\n",
            " test_p114_.jpg   test_p24_.jpg         test_p394_.jpg\t test_p525_.jpg\n",
            " test_p115_.jpg   test_p250_.jpg        test_p395_.jpg\t test_p526_.jpg\n",
            " test_p116_.jpg   test_p251_.jpg        test_p396_.jpg\t test_p527_.jpg\n",
            " test_p117_.jpg   test_p253_.jpg        test_p397_.jpg\t test_p528_.jpg\n",
            " test_p118_.jpg   test_p254_.jpg        test_p398_.jpg\t test_p529_.jpg\n",
            " test_p119_.jpg   test_p255_.jpg        test_p399_.jpg\t test_p52_.jpg\n",
            " test_p11_.jpg\t  test_p256_.jpg        test_p39_.jpg\t test_p530_.jpg\n",
            " test_p120_.jpg   test_p258_.jpg        test_p3_.jpg\t test_p531_.jpg\n",
            " test_p121_.jpg   test_p25_.jpg         test_p400_.jpg\t test_p532_.jpg\n",
            " test_p122_.jpg   test_p260_.jpg        test_p401_.jpg\t test_p533_.jpg\n",
            " test_p123_.jpg   test_p261_.jpg        test_p402_.jpg\t test_p534_.jpg\n",
            " test_p125_.jpg   test_p262_.jpg        test_p403_.jpg\t test_p535_.jpg\n",
            " test_p126_.jpg   test_p263_.jpg        test_p404_.jpg\t test_p536_.jpg\n",
            " test_p127_.jpg   test_p265_.jpg        test_p405_.jpg\t test_p537_.jpg\n",
            " test_p128_.jpg   test_p266_.jpg        test_p406_.jpg\t test_p538_.jpg\n",
            " test_p129_.jpg   test_p267_.jpg        test_p408_.jpg\t test_p539_.jpg\n",
            " test_p12_.jpg\t  test_p269_.jpg        test_p409_.jpg\t test_p53_.jpg\n",
            " test_p130_.jpg   test_p26_.jpg         test_p40_.jpg\t test_p540_.jpg\n",
            " test_p131_.jpg   test_p270_.jpg        test_p410_.jpg\t test_p541_.jpg\n",
            " test_p132_.jpg   test_p271_.jpg        test_p411_.jpg\t test_p542_.jpg\n",
            " test_p133_.jpg   test_p273_.jpg        test_p412_.jpg\t test_p543_.jpg\n",
            " test_p134_.jpg   test_p274_.jpg        test_p414_.jpg\t test_p544_.jpg\n",
            " test_p135_.jpg   test_p276_.jpg        test_p415_.jpg\t test_p545_.jpg\n",
            " test_p136_.jpg   test_p277_.jpg        test_p416_.jpg\t test_p546_.jpg\n",
            " test_p137_.jpg   test_p278_.jpg        test_p417_.jpg\t test_p547_.jpg\n",
            " test_p138_.jpg   test_p279_.jpg        test_p418_.jpg\t test_p549_.jpg\n",
            " test_p139_.jpg   test_p27_.jpg         test_p419_.jpg\t test_p54_.jpg\n",
            " test_p13_.jpg\t  test_p280_.jpg        test_p41_.jpg\t test_p551_.jpg\n",
            " test_p141_.jpg   test_p281_.jpg        test_p420_.jpg\t test_p552_.jpg\n",
            " test_p142_.jpg   test_p282_.jpg        test_p421_.jpg\t test_p553_.jpg\n",
            " test_p143_.jpg   test_p284_.jpg        test_p422_.jpg\t test_p554_.jpg\n",
            " test_p144_.jpg   test_p286_.jpg        test_p424_.jpg\t test_p556_.jpg\n",
            " test_p145_.jpg   test_p288_.jpg        test_p425_.jpg\t test_p557_.jpg\n",
            " test_p146_.jpg   test_p289_.jpg        test_p426_.jpg\t test_p558_.jpg\n",
            " test_p147_.jpg   test_p28_.jpg         test_p427_.jpg\t test_p559_.jpg\n",
            " test_p148_.jpg   test_p290_.jpg        test_p428_.jpg\t test_p560_.jpg\n",
            " test_p149_.jpg   test_p291_.jpg        test_p429_.jpg\t test_p562_.jpg\n",
            " test_p14_.jpg\t  test_p292_.jpg        test_p42_.jpg\t test_p564_.jpg\n",
            " test_p150_.jpg   test_p294_.jpg        test_p430_.jpg\t test_p566_.jpg\n",
            " test_p153_.jpg   test_p295_.jpg        test_p431_.jpg\t test_p569_.jpg\n",
            " test_p154_.jpg   test_p297_.jpg        test_p434_.jpg\t test_p56_.jpg\n",
            " test_p156_.jpg   test_p298_.jpg        test_p435_.jpg\t test_p570_.jpg\n",
            " test_p157_.jpg   test_p299_.jpg        test_p436_.jpg\t test_p574_.jpg\n",
            " test_p158_.jpg   test_p29_.jpg         test_p437_.jpg\t test_p575_.jpg\n",
            " test_p159_.jpg   test_p2_.jpg\t        test_p438_.jpg\t test_p576_.jpg\n",
            " test_p15_.jpg\t  test_p301_.jpg        test_p439_.jpg\t test_p577_.jpg\n",
            " test_p161_.jpg   test_p302_.jpg        test_p43_.jpg\t test_p578_.jpg\n",
            " test_p162_.jpg   test_p305_.jpg        test_p440_.jpg\t test_p579_.jpg\n",
            " test_p164_.jpg   test_p306_.jpg        test_p441_.jpg\t test_p580_.jpg\n",
            " test_p165_.jpg   test_p307_.jpg        test_p443_.jpg\t test_p581_.jpg\n",
            " test_p166_.jpg   test_p308_.jpg        test_p444_.jpg\t test_p583_.jpg\n",
            " test_p167_.jpg   test_p309_.jpg        test_p447_.jpg\t test_p584_.jpg\n",
            " test_p168_.jpg   test_p30_.jpg         test_p448_.jpg\t test_p586_.jpg\n",
            " test_p169_.jpg   test_p310_.jpg        test_p450_.jpg\t test_p587_.jpg\n",
            " test_p16_.jpg\t  test_p314_.jpg        test_p451_.jpg\t test_p588_.jpg\n",
            " test_p171_.jpg   test_p315_.jpg        test_p453_.jpg\t test_p589_.jpg\n",
            " test_p172_.jpg   test_p316_.jpg        test_p454_.jpg\t test_p58_.jpg\n",
            " test_p173_.jpg   test_p317_.jpg        test_p455_.jpg\t test_p590_.jpg\n",
            " test_p174_.jpg   test_p318_.jpg        test_p456_.jpg\t test_p592_.jpg\n",
            " test_p175_.jpg   test_p319_.jpg        test_p457_.jpg\t test_p595_.jpg\n",
            " test_p176_.jpg   test_p31_.jpg         test_p458_.jpg\t test_p596_.jpg\n",
            " test_p178_.jpg   test_p320_.jpg        test_p459_.jpg\t test_p597_.jpg\n",
            " test_p179_.jpg   test_p321_.jpg        test_p45_.jpg\t test_p598_.jpg\n",
            " test_p17_.jpg\t  test_p322_.jpg        test_p460_.jpg\t test_p599_.jpg\n",
            " test_p180_.jpg   test_p324_.jpg        test_p461_.jpg\t test_p59_.jpg\n",
            " test_p181_.jpg   test_p325_.jpg        test_p462_.jpg\t test_p5_.jpg\n",
            " test_p182_.jpg   test_p326_.jpg        test_p463_.jpg\t test_p600_.jpg\n",
            " test_p183_.jpg   test_p327_.jpg        test_p464_.jpg\t test_p603_.jpg\n",
            " test_p184_.jpg  'test_p328_ (1).jpg'   test_p465_.jpg\t test_p604_.jpg\n",
            " test_p185_.jpg   test_p328_.jpg        test_p466_.jpg\t test_p605_.jpg\n",
            " test_p186_.jpg   test_p329_.jpg        test_p467_.jpg\t test_p607_.jpg\n",
            " test_p187_.jpg   test_p32_.jpg         test_p468_.jpg\t test_p608_.jpg\n",
            " test_p188_.jpg   test_p330_.jpg        test_p469_.jpg\t test_p609_.jpg\n",
            " test_p189_.jpg   test_p331_.jpg        test_p470_.jpg\t test_p60_.jpg\n",
            " test_p190_.jpg   test_p332_.jpg        test_p471_.jpg\t test_p610_.jpg\n",
            " test_p191_.jpg   test_p333_.jpg        test_p472_.jpg\t test_p611_.jpg\n",
            " test_p192_.jpg   test_p334_.jpg        test_p473_.jpg\t test_p612_.jpg\n",
            " test_p193_.jpg   test_p335_.jpg        test_p474_.jpg\t test_p613_.jpg\n",
            " test_p194_.jpg   test_p336_.jpg        test_p475_.jpg\t test_p61_.jpg\n",
            " test_p195_.jpg   test_p337_.jpg        test_p476_.jpg\t test_p62_.jpg\n",
            " test_p196_.jpg   test_p338_.jpg        test_p477_.jpg\t test_p63_.jpg\n",
            " test_p197_.jpg   test_p339_.jpg        test_p478_.jpg\t test_p64_.jpg\n",
            " test_p198_.jpg   test_p340_.jpg        test_p479_.jpg\t test_p65_.jpg\n",
            " test_p199_.jpg   test_p342_.jpg        test_p47_.jpg\t test_p66_.jpg\n",
            " test_p200_.jpg   test_p344_.jpg        test_p481_.jpg\t test_p67_.jpg\n",
            " test_p203_.jpg   test_p345_.jpg        test_p482_.jpg\t test_p68_.jpg\n",
            " test_p205_.jpg   test_p346_.jpg        test_p483_.jpg\t test_p69_.jpg\n",
            " test_p206_.jpg   test_p347_.jpg        test_p485_.jpg\t test_p6_.jpg\n",
            " test_p208_.jpg   test_p348_.jpg        test_p486_.jpg\t test_p70_.jpg\n",
            " test_p209_.jpg   test_p349_.jpg        test_p487_.jpg\t test_p71_.jpg\n",
            " test_p20_.jpg\t  test_p34_.jpg         test_p488_.jpg\t test_p72_.jpg\n",
            " test_p211_.jpg   test_p350_.jpg        test_p489_.jpg\t test_p73_.jpg\n",
            " test_p212_.jpg   test_p351_.jpg        test_p48_.jpg\t test_p76_.jpg\n",
            " test_p213_.jpg   test_p352_.jpg        test_p490_.jpg\t test_p77_.jpg\n",
            " test_p214_.jpg   test_p353_.jpg        test_p492_.jpg\t test_p78_.jpg\n",
            " test_p215_.jpg   test_p354_.jpg        test_p493_.jpg\t test_p79_.jpg\n",
            " test_p216_.jpg   test_p357_.jpg        test_p494_.jpg\t test_p7_.jpg\n",
            " test_p218_.jpg   test_p358_.jpg        test_p495_.jpg\t test_p80_.jpg\n",
            " test_p219_.jpg   test_p359_.jpg        test_p496_.jpg\t test_p81_.jpg\n",
            " test_p21_.jpg\t  test_p35_.jpg         test_p497_.jpg\t test_p82_.jpg\n",
            " test_p221_.jpg   test_p361_.jpg        test_p498_.jpg\t test_p83_.jpg\n",
            " test_p222_.jpg   test_p362_.jpg        test_p499_.jpg\t test_p84_.jpg\n",
            " test_p223_.jpg   test_p364_.jpg        test_p49_.jpg\t test_p85_.jpg\n",
            " test_p224_.jpg   test_p365_.jpg        test_p500_.jpg\t test_p86_.jpg\n",
            " test_p225_.jpg   test_p366_.jpg        test_p501_.jpg\t test_p87_.jpg\n",
            " test_p226_.jpg   test_p368_.jpg        test_p502_.jpg\t test_p88_.jpg\n",
            " test_p227_.jpg   test_p369_.jpg        test_p503_.jpg\t test_p89_.jpg\n",
            " test_p228_.jpg   test_p36_.jpg         test_p504_.jpg\t test_p8_.jpg\n",
            " test_p229_.jpg   test_p370_.jpg        test_p505_.jpg\t test_p90_.jpg\n",
            " test_p22_.jpg\t  test_p371_.jpg        test_p506_.jpg\t test_p91_.jpg\n",
            " test_p230_.jpg   test_p372_.jpg        test_p508_.jpg\t test_p92_.jpg\n",
            " test_p232_.jpg   test_p373_.jpg        test_p509_.jpg\t test_p93_.jpg\n",
            " test_p233_.jpg   test_p374_.jpg        test_p50_.jpg\t test_p94_.jpg\n",
            " test_p234_.jpg   test_p376_.jpg        test_p510_.jpg\t test_p97_.jpg\n",
            " test_p235_.jpg   test_p377_.jpg        test_p511_.jpg\t test_p98_.jpg\n",
            " test_p236_.jpg   test_p378_.jpg        test_p512_.jpg\t test_p99_.jpg\n",
            " test_p238_.jpg   test_p37_.jpg         test_p513_.jpg\t test_p9_.jpg\n"
          ]
        }
      ]
    },
    {
      "cell_type": "code",
      "metadata": {
        "id": "h4bkqgyDoDkD"
      },
      "source": [
        "IMAGE_DATA_PATH=\"/content/drive/MyDrive/Datasets/deep-sesr\""
      ],
      "execution_count": null,
      "outputs": []
    },
    {
      "cell_type": "code",
      "metadata": {
        "id": "PtupLNzq3FZd"
      },
      "source": [
        "#!mkdir /content/drive/MyDrive/denoise/gan/deep-sesr/reshaped_images"
      ],
      "execution_count": null,
      "outputs": []
    },
    {
      "cell_type": "code",
      "metadata": {
        "id": "7tuftWp13VVv"
      },
      "source": [
        "#NEW_DATA_PATH = \"/content/drive/MyDrive/denoise/gan/deep-sesr/reshaped_images\"\n",
        "NEW_DATA_PATH = \"/content/drive/MyDrive/Datasets/deep-sesr\"\n",
        "MODEL_SAVE_PATH = \"/content/drive/MyDrive/denoise/gan/models\"\n",
        "EPOCH_END_SAVE = \"/content/drive/MyDrive/denoise/outputs\""
      ],
      "execution_count": null,
      "outputs": []
    },
    {
      "cell_type": "code",
      "metadata": {
        "colab": {
          "base_uri": "https://localhost:8080/",
          "height": 70
        },
        "id": "s6dPtzL52xh0",
        "outputId": "47adb6cc-bb34-45ee-8ef3-0c441bc6cfe6"
      },
      "source": [
        "## Reshaping the iages\n",
        "\"\"\"import os\n",
        "import cv2\n",
        "\n",
        "for i in os.listdir(IMAGE_DATA_PATH):\n",
        "  img = cv2.imread(IMAGE_DATA_PATH+\"/\"+i, cv2.IMREAD_UNCHANGED)\n",
        "  img2 = cv2.resize(img, (64, 64), interpolation = cv2.INTER_AREA)\n",
        "  cv2.imwrite(NEW_DATA_PATH+\"/\"+i, img2)\n",
        "  print(\"Y\", end=\" \")\"\"\""
      ],
      "execution_count": null,
      "outputs": [
        {
          "output_type": "execute_result",
          "data": {
            "application/vnd.google.colaboratory.intrinsic+json": {
              "type": "string"
            },
            "text/plain": [
              "'import os\\nimport cv2\\n\\nfor i in os.listdir(IMAGE_DATA_PATH):\\n  img = cv2.imread(IMAGE_DATA_PATH+\"/\"+i, cv2.IMREAD_UNCHANGED)\\n  img2 = cv2.resize(img, (64, 64), interpolation = cv2.INTER_AREA)\\n  cv2.imwrite(NEW_DATA_PATH+\"/\"+i, img2)\\n  print(\"Y\", end=\" \")'"
            ]
          },
          "metadata": {},
          "execution_count": 6
        }
      ]
    },
    {
      "cell_type": "code",
      "metadata": {
        "colab": {
          "base_uri": "https://localhost:8080/"
        },
        "id": "hVmjDPkB0gtO",
        "outputId": "50434ff3-bf5b-41b9-ad4f-570592f52570"
      },
      "source": [
        "import cv2\n",
        "\n",
        "img = cv2.imread(NEW_DATA_PATH+\"/test_p238_.jpg\")\n",
        "img.shape"
      ],
      "execution_count": null,
      "outputs": [
        {
          "output_type": "execute_result",
          "data": {
            "text/plain": [
              "(256, 256, 3)"
            ]
          },
          "metadata": {},
          "execution_count": 7
        }
      ]
    },
    {
      "cell_type": "code",
      "metadata": {
        "colab": {
          "base_uri": "https://localhost:8080/"
        },
        "id": "0lc_zmYYYy8t",
        "outputId": "773ce6c1-0cf5-4ba8-e0fc-754f3b854c41"
      },
      "source": [
        "from tensorflow import keras\n",
        "dataset = keras.utils.image_dataset_from_directory(\n",
        "    IMAGE_DATA_PATH,\n",
        "    label_mode=None,\n",
        "    image_size=(256, 256),\n",
        "    batch_size=1,\n",
        "    smart_resize=True)"
      ],
      "execution_count": null,
      "outputs": [
        {
          "output_type": "stream",
          "name": "stdout",
          "text": [
            "Found 516 files belonging to 1 classes.\n"
          ]
        }
      ]
    },
    {
      "cell_type": "code",
      "metadata": {
        "id": "mu1h67Z_YzAo"
      },
      "source": [
        "dataset = dataset.map(lambda x: x / 255.)"
      ],
      "execution_count": null,
      "outputs": []
    },
    {
      "cell_type": "code",
      "metadata": {
        "colab": {
          "base_uri": "https://localhost:8080/",
          "height": 248
        },
        "id": "t5no224zYzEf",
        "outputId": "d6c32eec-db9e-4754-de61-4528b7acd258"
      },
      "source": [
        "import matplotlib.pyplot as plt\n",
        "for x in dataset:\n",
        "    plt.axis(\"off\")\n",
        "    plt.imshow((x.numpy() * 255).astype(\"int32\")[0])\n",
        "    break"
      ],
      "execution_count": null,
      "outputs": [
        {
          "output_type": "display_data",
          "data": {
            "image/png": "[encoded data removed]",
            "text/plain": [
              "<Figure size 432x288 with 1 Axes>"
            ]
          },
          "metadata": {
            "needs_background": "light"
          }
        }
      ]
    },
    {
      "cell_type": "markdown",
      "metadata": {
        "id": "V0UmrjpWcOvH"
      },
      "source": [
        "**THE DISCRIMINATOR**"
      ]
    },
    {
      "cell_type": "code",
      "metadata": {
        "colab": {
          "base_uri": "https://localhost:8080/",
          "height": 122
        },
        "id": "eokw0PquYzIf",
        "outputId": "30d3f3b1-cfb5-4211-f488-9bddb655d67d"
      },
      "source": [
        "\"\"\"from tensorflow.keras import layers\n",
        "\n",
        "discriminator = keras.Sequential(\n",
        "    [\n",
        "        keras.Input(shape=(64, 64, 3)),\n",
        "        layers.Conv2D(64, kernel_size=4, strides=2, padding=\"same\"),\n",
        "        layers.LeakyReLU(alpha=0.2),\n",
        "        layers.Conv2D(128, kernel_size=4, strides=2, padding=\"same\"),\n",
        "        layers.LeakyReLU(alpha=0.2),\n",
        "        layers.Conv2D(128, kernel_size=4, strides=2, padding=\"same\"),\n",
        "        layers.LeakyReLU(alpha=0.2),\n",
        "        layers.Flatten(),\n",
        "        layers.Dropout(0.2),\n",
        "        layers.Dense(1, activation=\"sigmoid\"),\n",
        "    ],\n",
        "    name=\"discriminator\",\n",
        ")\n",
        "\n",
        "discriminator.summary()\"\"\""
      ],
      "execution_count": null,
      "outputs": [
        {
          "output_type": "execute_result",
          "data": {
            "application/vnd.google.colaboratory.intrinsic+json": {
              "type": "string"
            },
            "text/plain": [
              "'from tensorflow.keras import layers\\n\\ndiscriminator = keras.Sequential(\\n    [\\n        keras.Input(shape=(64, 64, 3)),\\n        layers.Conv2D(64, kernel_size=4, strides=2, padding=\"same\"),\\n        layers.LeakyReLU(alpha=0.2),\\n        layers.Conv2D(128, kernel_size=4, strides=2, padding=\"same\"),\\n        layers.LeakyReLU(alpha=0.2),\\n        layers.Conv2D(128, kernel_size=4, strides=2, padding=\"same\"),\\n        layers.LeakyReLU(alpha=0.2),\\n        layers.Flatten(),\\n        layers.Dropout(0.2),\\n        layers.Dense(1, activation=\"sigmoid\"),\\n    ],\\n    name=\"discriminator\",\\n)\\n\\ndiscriminator.summary()'"
            ]
          },
          "metadata": {},
          "execution_count": 11
        }
      ]
    },
    {
      "cell_type": "code",
      "source": [
        "from tensorflow.keras import layers\n",
        "\n",
        "discriminator = keras.Sequential(\n",
        "    [\n",
        "        keras.Input(shape=(256, 256, 3)),\n",
        "        layers.Conv2D(64, kernel_size=4, strides=2, padding=\"same\"),\n",
        "        layers.LeakyReLU(alpha=0.2),\n",
        "        layers.Conv2D(128, kernel_size=4, strides=2, padding=\"same\"),\n",
        "        layers.LeakyReLU(alpha=0.2),\n",
        "        layers.Conv2D(128, kernel_size=4, strides=2, padding=\"same\"),\n",
        "        layers.LeakyReLU(alpha=0.2),\n",
        "        layers.Flatten(),\n",
        "        layers.Dropout(0.2),\n",
        "        layers.Dense(1, activation=\"sigmoid\"),\n",
        "    ],\n",
        "    name=\"discriminator\",\n",
        ")\n",
        "\n",
        "discriminator.summary()"
      ],
      "metadata": {
        "colab": {
          "base_uri": "https://localhost:8080/"
        },
        "id": "lWrJAgOtBOzo",
        "outputId": "9fec32fc-6b1f-42d8-ef95-31ff0df3cee1"
      },
      "execution_count": null,
      "outputs": [
        {
          "output_type": "stream",
          "name": "stdout",
          "text": [
            "Model: \"discriminator\"\n",
            "_________________________________________________________________\n",
            " Layer (type)                Output Shape              Param #   \n",
            "=================================================================\n",
            " conv2d (Conv2D)             (None, 128, 128, 64)      3136      \n",
            "                                                                 \n",
            " leaky_re_lu (LeakyReLU)     (None, 128, 128, 64)      0         \n",
            "                                                                 \n",
            " conv2d_1 (Conv2D)           (None, 64, 64, 128)       131200    \n",
            "                                                                 \n",
            " leaky_re_lu_1 (LeakyReLU)   (None, 64, 64, 128)       0         \n",
            "                                                                 \n",
            " conv2d_2 (Conv2D)           (None, 32, 32, 128)       262272    \n",
            "                                                                 \n",
            " leaky_re_lu_2 (LeakyReLU)   (None, 32, 32, 128)       0         \n",
            "                                                                 \n",
            " flatten (Flatten)           (None, 131072)            0         \n",
            "                                                                 \n",
            " dropout (Dropout)           (None, 131072)            0         \n",
            "                                                                 \n",
            " dense (Dense)               (None, 1)                 131073    \n",
            "                                                                 \n",
            "=================================================================\n",
            "Total params: 527,681\n",
            "Trainable params: 527,681\n",
            "Non-trainable params: 0\n",
            "_________________________________________________________________\n"
          ]
        }
      ]
    },
    {
      "cell_type": "code",
      "metadata": {
        "id": "bC7Jr1sMo9AK",
        "colab": {
          "base_uri": "https://localhost:8080/",
          "height": 122
        },
        "outputId": "01a21469-695c-48d3-af6f-f67fafe0e6c5"
      },
      "source": [
        "\"\"\"latent_dim = 128\n",
        "\n",
        "generator = keras.Sequential(\n",
        "    [\n",
        "        keras.Input(shape=(latent_dim,)),\n",
        "        layers.Dense(8 * 8 * 128),\n",
        "        layers.Reshape((8, 8, 128)),\n",
        "        layers.Conv2DTranspose(128, kernel_size=4, strides=2, padding=\"same\"),\n",
        "        layers.LeakyReLU(alpha=0.2),\n",
        "        layers.Conv2DTranspose(256, kernel_size=4, strides=2, padding=\"same\"),\n",
        "        layers.LeakyReLU(alpha=0.2),\n",
        "        layers.Conv2DTranspose(512, kernel_size=4, strides=2, padding=\"same\"),\n",
        "        layers.LeakyReLU(alpha=0.2),\n",
        "        layers.Conv2D(3, kernel_size=5, padding=\"same\", activation=\"sigmoid\"),\n",
        "    ],\n",
        "    name=\"generator\",\n",
        ")\n",
        "\"\"\""
      ],
      "execution_count": null,
      "outputs": [
        {
          "output_type": "execute_result",
          "data": {
            "application/vnd.google.colaboratory.intrinsic+json": {
              "type": "string"
            },
            "text/plain": [
              "'latent_dim = 128\\n\\ngenerator = keras.Sequential(\\n    [\\n        keras.Input(shape=(latent_dim,)),\\n        layers.Dense(8 * 8 * 128),\\n        layers.Reshape((8, 8, 128)),\\n        layers.Conv2DTranspose(128, kernel_size=4, strides=2, padding=\"same\"),\\n        layers.LeakyReLU(alpha=0.2),\\n        layers.Conv2DTranspose(256, kernel_size=4, strides=2, padding=\"same\"),\\n        layers.LeakyReLU(alpha=0.2),\\n        layers.Conv2DTranspose(512, kernel_size=4, strides=2, padding=\"same\"),\\n        layers.LeakyReLU(alpha=0.2),\\n        layers.Conv2D(3, kernel_size=5, padding=\"same\", activation=\"sigmoid\"),\\n    ],\\n    name=\"generator\",\\n)\\n'"
            ]
          },
          "metadata": {},
          "execution_count": 13
        }
      ]
    },
    {
      "cell_type": "code",
      "source": [
        "latent_dim = 512\n",
        "\n",
        "generator = keras.Sequential(\n",
        "    [\n",
        "        keras.Input(shape=(latent_dim,)),\n",
        "        layers.Dense(32 * 32 * 512),\n",
        "        layers.Reshape((32, 32, 512)),\n",
        "        layers.Conv2DTranspose(512, kernel_size=4, strides=2, padding=\"same\"),\n",
        "        layers.LeakyReLU(alpha=0.2),\n",
        "        layers.Conv2DTranspose(1024, kernel_size=4, strides=2, padding=\"same\"),\n",
        "        layers.LeakyReLU(alpha=0.2),\n",
        "        layers.Conv2DTranspose(2048, kernel_size=4, strides=2, padding=\"same\"),\n",
        "        layers.LeakyReLU(alpha=0.2),\n",
        "        layers.Conv2D(3, kernel_size=5, padding=\"same\", activation=\"sigmoid\"),\n",
        "    ],\n",
        "    name=\"generator\",\n",
        ")\n"
      ],
      "metadata": {
        "id": "2-FvzDooBZdV"
      },
      "execution_count": null,
      "outputs": []
    },
    {
      "cell_type": "code",
      "metadata": {
        "id": "Nma_7o6A2A3I",
        "colab": {
          "base_uri": "https://localhost:8080/"
        },
        "outputId": "e56ad920-28ce-48ea-efd0-f0af8d90f150"
      },
      "source": [
        "generator.summary()"
      ],
      "execution_count": null,
      "outputs": [
        {
          "output_type": "stream",
          "name": "stdout",
          "text": [
            "Model: \"generator\"\n",
            "_________________________________________________________________\n",
            " Layer (type)                Output Shape              Param #   \n",
            "=================================================================\n",
            " dense_1 (Dense)             (None, 524288)            268959744 \n",
            "                                                                 \n",
            " reshape (Reshape)           (None, 32, 32, 512)       0         \n",
            "                                                                 \n",
            " conv2d_transpose (Conv2DTra  (None, 64, 64, 512)      4194816   \n",
            " nspose)                                                         \n",
            "                                                                 \n",
            " leaky_re_lu_3 (LeakyReLU)   (None, 64, 64, 512)       0         \n",
            "                                                                 \n",
            " conv2d_transpose_1 (Conv2DT  (None, 128, 128, 1024)   8389632   \n",
            " ranspose)                                                       \n",
            "                                                                 \n",
            " leaky_re_lu_4 (LeakyReLU)   (None, 128, 128, 1024)    0         \n",
            "                                                                 \n",
            " conv2d_transpose_2 (Conv2DT  (None, 256, 256, 2048)   33556480  \n",
            " ranspose)                                                       \n",
            "                                                                 \n",
            " leaky_re_lu_5 (LeakyReLU)   (None, 256, 256, 2048)    0         \n",
            "                                                                 \n",
            " conv2d_3 (Conv2D)           (None, 256, 256, 3)       153603    \n",
            "                                                                 \n",
            "=================================================================\n",
            "Total params: 315,254,275\n",
            "Trainable params: 315,254,275\n",
            "Non-trainable params: 0\n",
            "_________________________________________________________________\n"
          ]
        }
      ]
    },
    {
      "cell_type": "code",
      "metadata": {
        "id": "TZax4YsZYzN2"
      },
      "source": [
        "import tensorflow as tf\n",
        "class GAN(keras.Model):\n",
        "    def __init__(self, discriminator, generator, latent_dim):\n",
        "        super().__init__()\n",
        "        self.discriminator = discriminator\n",
        "        self.generator = generator\n",
        "        self.latent_dim = latent_dim\n",
        "        self.d_loss_metric = keras.metrics.Mean(name=\"d_loss\")\n",
        "        self.g_loss_metric = keras.metrics.Mean(name=\"g_loss\")\n",
        "\n",
        "    def compile(self, d_optimizer, g_optimizer, loss_fn):\n",
        "        super(GAN, self).compile()\n",
        "        self.d_optimizer = d_optimizer\n",
        "        self.g_optimizer = g_optimizer\n",
        "        self.loss_fn = loss_fn\n",
        "\n",
        "    @property\n",
        "    def metrics(self):\n",
        "        return [self.d_loss_metric, self.g_loss_metric]\n",
        "\n",
        "    def train_step(self, real_images):\n",
        "        batch_size = tf.shape(real_images)[0]\n",
        "        random_latent_vectors = tf.random.normal(\n",
        "            shape=(batch_size, self.latent_dim))\n",
        "        generated_images = self.generator(random_latent_vectors)\n",
        "        combined_images = tf.concat([generated_images, real_images], axis=0)\n",
        "        labels = tf.concat(\n",
        "            [tf.ones((batch_size, 1)), tf.zeros((batch_size, 1))],\n",
        "            axis=0\n",
        "        )\n",
        "        labels += 0.05 * tf.random.uniform(tf.shape(labels))\n",
        "\n",
        "        with tf.GradientTape() as tape:\n",
        "            predictions = self.discriminator(combined_images)\n",
        "            d_loss = self.loss_fn(labels, predictions)\n",
        "        grads = tape.gradient(d_loss, self.discriminator.trainable_weights)\n",
        "        self.d_optimizer.apply_gradients(\n",
        "            zip(grads, self.discriminator.trainable_weights)\n",
        "        )\n",
        "\n",
        "        random_latent_vectors = tf.random.normal(\n",
        "            shape=(batch_size, self.latent_dim))\n",
        "\n",
        "        misleading_labels = tf.zeros((batch_size, 1))\n",
        "\n",
        "        with tf.GradientTape() as tape:\n",
        "            predictions = self.discriminator(\n",
        "                self.generator(random_latent_vectors))\n",
        "            g_loss = self.loss_fn(misleading_labels, predictions)\n",
        "        grads = tape.gradient(g_loss, self.generator.trainable_weights)\n",
        "        self.g_optimizer.apply_gradients(\n",
        "            zip(grads, self.generator.trainable_weights))\n",
        "\n",
        "        self.d_loss_metric.update_state(d_loss)\n",
        "        self.g_loss_metric.update_state(g_loss)\n",
        "        return {\"d_loss\": self.d_loss_metric.result(),\n",
        "                \"g_loss\": self.g_loss_metric.result()}"
      ],
      "execution_count": null,
      "outputs": []
    },
    {
      "cell_type": "code",
      "metadata": {
        "id": "xM8l8lmPYzRA"
      },
      "source": [
        "class GANMonitor(keras.callbacks.Callback):\n",
        "    def __init__(self, num_img=1, latent_dim=512):\n",
        "      self.num_img = num_img\n",
        "      self.latent_dim = latent_dim\n",
        "\n",
        "    def on_epoch_end(self, epoch, logs=None):\n",
        "      \n",
        "      if epoch%2 == 0:\n",
        "        self.model.save(MODEL_SAVE_PATH+\"/gan_model_{}.hd5\".format(epoch))\n",
        "\n",
        "      random_latent_vectors = tf.random.normal(shape=(self.num_img, self.latent_dim))\n",
        "      generated_images = self.model.generator(random_latent_vectors)\n",
        "      generated_images *= 255\n",
        "      generated_images.numpy()\n",
        "      for i in range(self.num_img):\n",
        "          img = keras.utils.array_to_img(generated_images[i])\n",
        "          img.save(f\"{EPOCH_END_SAVE}/generated_img_{epoch:03d}_{i}.png\")"
      ],
      "execution_count": null,
      "outputs": []
    },
    {
      "cell_type": "code",
      "source": [
        "class CustomSaver(keras.callbacks.Callback):\n",
        "    def on_epoch_end(self, epoch, logs={}):\n",
        "        if epoch%2 == 0:  # or save after some epoch, each k-th epoch etc.\n",
        "            self.model.save(MODEL_SAVE_PATH+\"gan_model_{}.hd5\".format(epoch))"
      ],
      "metadata": {
        "id": "bucxsydBnVcx"
      },
      "execution_count": null,
      "outputs": []
    },
    {
      "cell_type": "code",
      "source": [
        "class CustomSaver(keras.callbacks.Callback):\n",
        "    def on_epoch_end(self, epoch, logs={}):\n",
        "        if epoch%2:  # or save after some epoch, each k-th epoch etc.\n",
        "            self.model.save(MODEL_SAVE_PATH+\"gan_model_{}.h5\".format(epoch))"
      ],
      "metadata": {
        "id": "iSUMdmY4n04P"
      },
      "execution_count": null,
      "outputs": []
    },
    {
      "cell_type": "code",
      "metadata": {
        "colab": {
          "base_uri": "https://localhost:8080/",
          "height": 453
        },
        "id": "fx225M6QYzTX",
        "outputId": "bde5f84a-7d2b-4998-ad0f-11204b15394a"
      },
      "source": [
        "epochs = 1000\n",
        "\n",
        "gan = GAN(discriminator=discriminator, generator=generator, latent_dim=latent_dim)\n",
        "gan.compile(\n",
        "    d_optimizer=keras.optimizers.Adam(learning_rate=0.0001),\n",
        "    g_optimizer=keras.optimizers.Adam(learning_rate=0.0001),\n",
        "    loss_fn=keras.losses.BinaryCrossentropy(),\n",
        ")\n",
        "\n",
        "gan.fit(\n",
        "    dataset, epochs=epochs, callbacks=[GANMonitor(num_img=1, latent_dim=latent_dim)]\n",
        ")"
      ],
      "execution_count": null,
      "outputs": [
        {
          "output_type": "stream",
          "name": "stdout",
          "text": [
            "Epoch 1/1000\n",
            "516/516 [==============================] - ETA: 0s - d_loss: 0.6634 - g_loss: 1.6480 WARNING:tensorflow:Skipping full serialization of Keras layer <__main__.GAN object at 0x7faf48bcb510>, because it is not built.\n"
          ]
        },
        {
          "output_type": "error",
          "ename": "ValueError",
          "evalue": "ignored",
          "traceback": [
            "\u001b[0;31m---------------------------------------------------------------------------\u001b[0m",
            "\u001b[0;31mValueError\u001b[0m                                Traceback (most recent call last)",
            "\u001b[0;32m<ipython-input-23-dc08c2e525fd>\u001b[0m in \u001b[0;36m<module>\u001b[0;34m()\u001b[0m\n\u001b[1;32m      9\u001b[0m \u001b[0;34m\u001b[0m\u001b[0m\n\u001b[1;32m     10\u001b[0m gan.fit(\n\u001b[0;32m---> 11\u001b[0;31m     \u001b[0mdataset\u001b[0m\u001b[0;34m,\u001b[0m \u001b[0mepochs\u001b[0m\u001b[0;34m=\u001b[0m\u001b[0mepochs\u001b[0m\u001b[0;34m,\u001b[0m \u001b[0mcallbacks\u001b[0m\u001b[0;34m=\u001b[0m\u001b[0;34m[\u001b[0m\u001b[0mGANMonitor\u001b[0m\u001b[0;34m(\u001b[0m\u001b[0mnum_img\u001b[0m\u001b[0;34m=\u001b[0m\u001b[0;36m1\u001b[0m\u001b[0;34m,\u001b[0m \u001b[0mlatent_dim\u001b[0m\u001b[0;34m=\u001b[0m\u001b[0mlatent_dim\u001b[0m\u001b[0;34m)\u001b[0m\u001b[0;34m]\u001b[0m\u001b[0;34m\u001b[0m\u001b[0;34m\u001b[0m\u001b[0m\n\u001b[0m\u001b[1;32m     12\u001b[0m )\n",
            "\u001b[0;32m/usr/local/lib/python3.7/dist-packages/keras/utils/traceback_utils.py\u001b[0m in \u001b[0;36merror_handler\u001b[0;34m(*args, **kwargs)\u001b[0m\n\u001b[1;32m     65\u001b[0m     \u001b[0;32mexcept\u001b[0m \u001b[0mException\u001b[0m \u001b[0;32mas\u001b[0m \u001b[0me\u001b[0m\u001b[0;34m:\u001b[0m  \u001b[0;31m# pylint: disable=broad-except\u001b[0m\u001b[0;34m\u001b[0m\u001b[0;34m\u001b[0m\u001b[0m\n\u001b[1;32m     66\u001b[0m       \u001b[0mfiltered_tb\u001b[0m \u001b[0;34m=\u001b[0m \u001b[0m_process_traceback_frames\u001b[0m\u001b[0;34m(\u001b[0m\u001b[0me\u001b[0m\u001b[0;34m.\u001b[0m\u001b[0m__traceback__\u001b[0m\u001b[0;34m)\u001b[0m\u001b[0;34m\u001b[0m\u001b[0;34m\u001b[0m\u001b[0m\n\u001b[0;32m---> 67\u001b[0;31m       \u001b[0;32mraise\u001b[0m \u001b[0me\u001b[0m\u001b[0;34m.\u001b[0m\u001b[0mwith_traceback\u001b[0m\u001b[0;34m(\u001b[0m\u001b[0mfiltered_tb\u001b[0m\u001b[0;34m)\u001b[0m \u001b[0;32mfrom\u001b[0m \u001b[0;32mNone\u001b[0m\u001b[0;34m\u001b[0m\u001b[0;34m\u001b[0m\u001b[0m\n\u001b[0m\u001b[1;32m     68\u001b[0m     \u001b[0;32mfinally\u001b[0m\u001b[0;34m:\u001b[0m\u001b[0;34m\u001b[0m\u001b[0;34m\u001b[0m\u001b[0m\n\u001b[1;32m     69\u001b[0m       \u001b[0;32mdel\u001b[0m \u001b[0mfiltered_tb\u001b[0m\u001b[0;34m\u001b[0m\u001b[0;34m\u001b[0m\u001b[0m\n",
            "\u001b[0;32m<ipython-input-22-6f4420c1e6e0>\u001b[0m in \u001b[0;36mon_epoch_end\u001b[0;34m(self, epoch, logs)\u001b[0m\n\u001b[1;32m      7\u001b[0m \u001b[0;34m\u001b[0m\u001b[0m\n\u001b[1;32m      8\u001b[0m       \u001b[0;32mif\u001b[0m \u001b[0mepoch\u001b[0m\u001b[0;34m%\u001b[0m\u001b[0;36m2\u001b[0m \u001b[0;34m==\u001b[0m \u001b[0;36m0\u001b[0m\u001b[0;34m:\u001b[0m\u001b[0;34m\u001b[0m\u001b[0;34m\u001b[0m\u001b[0m\n\u001b[0;32m----> 9\u001b[0;31m         \u001b[0mself\u001b[0m\u001b[0;34m.\u001b[0m\u001b[0mmodel\u001b[0m\u001b[0;34m.\u001b[0m\u001b[0msave\u001b[0m\u001b[0;34m(\u001b[0m\u001b[0mMODEL_SAVE_PATH\u001b[0m\u001b[0;34m+\u001b[0m\u001b[0;34m\"/gan_model_{}.hd5\"\u001b[0m\u001b[0;34m.\u001b[0m\u001b[0mformat\u001b[0m\u001b[0;34m(\u001b[0m\u001b[0mepoch\u001b[0m\u001b[0;34m)\u001b[0m\u001b[0;34m)\u001b[0m\u001b[0;34m\u001b[0m\u001b[0;34m\u001b[0m\u001b[0m\n\u001b[0m\u001b[1;32m     10\u001b[0m \u001b[0;34m\u001b[0m\u001b[0m\n\u001b[1;32m     11\u001b[0m       \u001b[0mrandom_latent_vectors\u001b[0m \u001b[0;34m=\u001b[0m \u001b[0mtf\u001b[0m\u001b[0;34m.\u001b[0m\u001b[0mrandom\u001b[0m\u001b[0;34m.\u001b[0m\u001b[0mnormal\u001b[0m\u001b[0;34m(\u001b[0m\u001b[0mshape\u001b[0m\u001b[0;34m=\u001b[0m\u001b[0;34m(\u001b[0m\u001b[0mself\u001b[0m\u001b[0;34m.\u001b[0m\u001b[0mnum_img\u001b[0m\u001b[0;34m,\u001b[0m \u001b[0mself\u001b[0m\u001b[0;34m.\u001b[0m\u001b[0mlatent_dim\u001b[0m\u001b[0;34m)\u001b[0m\u001b[0;34m)\u001b[0m\u001b[0;34m\u001b[0m\u001b[0;34m\u001b[0m\u001b[0m\n",
            "\u001b[0;31mValueError\u001b[0m: Model <__main__.GAN object at 0x7faf48bcb510> cannot be saved because the input shapes have not been set. Usually, input shapes are automatically determined when calling `.fit()` or `.predict()`. To manually set the shapes, call `model.build(input_shape)"
          ]
        }
      ]
    },
    {
      "cell_type": "code",
      "metadata": {
        "id": "koYyDWdTYzaH"
      },
      "source": [
        "## code to save the model\n",
        "generator.save(MODEL_SAVE_PATH+\"/genrator_model_v_final.h5\")"
      ],
      "execution_count": null,
      "outputs": []
    },
    {
      "cell_type": "code",
      "metadata": {
        "id": "DIpcE0nnYzcO"
      },
      "source": [
        "#discriminator.save(MODEL_SAVE_PATH+\"/descriminator_v1.h5\")"
      ],
      "execution_count": null,
      "outputs": []
    },
    {
      "cell_type": "code",
      "metadata": {
        "id": "GAP46P26Yzee"
      },
      "source": [
        "#gan.save(MODEL_SAVE_PATH+\"/gan_v1.h5\")"
      ],
      "execution_count": null,
      "outputs": []
    },
    {
      "cell_type": "code",
      "metadata": {
        "id": "qKn_igJtYzgs"
      },
      "source": [
        "## load the model\n",
        "gen_model = keras.models.load_model(MODEL_SAVE_PATH+\"/genrator_model_v1.h5\")"
      ],
      "execution_count": null,
      "outputs": []
    },
    {
      "cell_type": "code",
      "metadata": {
        "id": "-aZw4sZvYziz"
      },
      "source": [
        "random_latent_vectors = tf.random.normal(\n",
        "            shape=(10, latent_dim))"
      ],
      "execution_count": null,
      "outputs": []
    },
    {
      "cell_type": "code",
      "metadata": {
        "id": "m56B6t7vYzlN"
      },
      "source": [
        "imgs = gen_model.predict(random_latent_vectors)"
      ],
      "execution_count": null,
      "outputs": []
    },
    {
      "cell_type": "code",
      "metadata": {
        "id": "1tTyje_nYzoC"
      },
      "source": [
        "## to save the images\n",
        "import cv2\n",
        "IMAGE_SAVE_PATH = \"/content/drive/MyDrive/denoise/gan/pred_images/\"\n",
        "count = 1\n",
        "for i in imgs:\n",
        "  img = (i*255).astype(\"uint8\")\n",
        "  img = cv2.cvtColor(img, cv2.COLOR_BGR2RGB)\n",
        "  cv2.imwrite(f\"{IMAGE_SAVE_PATH}_{count}.jpeg\", img)\n",
        "  plt.imshow(img)\n",
        "  count+=1"
      ],
      "execution_count": null,
      "outputs": []
    },
    {
      "cell_type": "code",
      "metadata": {
        "id": "KEW6_NRrYzqW"
      },
      "source": [
        ""
      ],
      "execution_count": null,
      "outputs": []
    }
  ]
}