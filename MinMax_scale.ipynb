{
  "nbformat": 4,
  "nbformat_minor": 0,
  "metadata": {
    "colab": {
      "name": "MinMax_scale.ipynb",
      "provenance": [],
      "authorship_tag": "ABX9TyPtu1Fe+wvtJS1YluWS/blx",
      "include_colab_link": true
    },
    "kernelspec": {
      "name": "python3",
      "display_name": "Python 3"
    },
    "language_info": {
      "name": "python"
    }
  },
  "cells": [
    {
      "cell_type": "markdown",
      "metadata": {
        "id": "view-in-github",
        "colab_type": "text"
      },
      "source": [
        "<a href=\"https://colab.research.google.com/github/ksshu/Machine_learning/blob/main/MinMax_scale.ipynb\" target=\"_parent\"><img src=\"https://colab.research.google.com/assets/colab-badge.svg\" alt=\"Open In Colab\"/></a>"
      ]
    },
    {
      "cell_type": "code",
      "metadata": {
        "id": "1I6N8prfrLsd"
      },
      "source": [
        "from sklearn.preprocessing import MinMaxScaler"
      ],
      "execution_count": null,
      "outputs": []
    },
    {
      "cell_type": "code",
      "metadata": {
        "id": "vkWyJLvUrUH1"
      },
      "source": [
        "data = [\n",
        "[2600\t,550000],\n",
        "[3000,\t565000],\n",
        "[\t3200,\t610000],\n",
        "[\t3600,\t680000],\n",
        "[\t4000,\t725000]]"
      ],
      "execution_count": null,
      "outputs": []
    },
    {
      "cell_type": "code",
      "metadata": {
        "id": "eRMbrpWSrUKn"
      },
      "source": [
        "scaler = MinMaxScaler()"
      ],
      "execution_count": null,
      "outputs": []
    },
    {
      "cell_type": "code",
      "metadata": {
        "colab": {
          "base_uri": "https://localhost:8080/"
        },
        "id": "rYd1OHsyrURN",
        "outputId": "1b657293-a4ec-4005-e200-6cc3b4552531"
      },
      "source": [
        "print(scaler.fit(data))"
      ],
      "execution_count": null,
      "outputs": [
        {
          "output_type": "stream",
          "text": [
            "MinMaxScaler(copy=True, feature_range=(0, 1))\n"
          ],
          "name": "stdout"
        }
      ]
    },
    {
      "cell_type": "code",
      "metadata": {
        "colab": {
          "base_uri": "https://localhost:8080/"
        },
        "id": "NBQdj14QrUTx",
        "outputId": "3abeb1c2-41d0-45cb-c8e7-efd05e97749a"
      },
      "source": [
        "print(scaler.transform(data))"
      ],
      "execution_count": null,
      "outputs": [
        {
          "output_type": "stream",
          "text": [
            "[[0.         0.        ]\n",
            " [0.28571429 0.08571429]\n",
            " [0.42857143 0.34285714]\n",
            " [0.71428571 0.74285714]\n",
            " [1.         1.        ]]\n"
          ],
          "name": "stdout"
        }
      ]
    }
  ]
}