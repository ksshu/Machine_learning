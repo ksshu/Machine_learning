{
  "nbformat": 4,
  "nbformat_minor": 0,
  "metadata": {
    "colab": {
      "name": "Untitled45.ipynb",
      "provenance": [],
      "authorship_tag": "ABX9TyPV96OSaUL0U3INQHRCetJw",
      "include_colab_link": true
    },
    "kernelspec": {
      "name": "python3",
      "display_name": "Python 3"
    },
    "language_info": {
      "name": "python"
    }
  },
  "cells": [
    {
      "cell_type": "markdown",
      "metadata": {
        "id": "view-in-github",
        "colab_type": "text"
      },
      "source": [
        "<a href=\"https://colab.research.google.com/github/ksshu/Machine_learning/blob/main/denoising.ipynb\" target=\"_parent\"><img src=\"https://colab.research.google.com/assets/colab-badge.svg\" alt=\"Open In Colab\"/></a>"
      ]
    },
    {
      "cell_type": "code",
      "metadata": {
        "id": "9vAkTz5s8G9E"
      },
      "source": [
        "import cv2\n",
        "import numpy as np\n",
        "from matplotlib import pyplot as plt\n",
        "img = cv2.imread('C:\\\\Users\\\\USR\\\\Desktop\\\\python\\\\4.jpg', 1)\n",
        "kernel = np.ones((3,3),np.float32)/9\n",
        "filt_2D = cv2.filter2D(img,-1,kernel)  \n",
        "blur = cv2.blur(img,(3,3))   \n",
        "blur_gaussian = cv2.GaussianBlur(img,(3,3),0)  \n",
        "median_blur = median = cv2.medianBlur(img,5)  \n",
        "bilateral_blur = cv2.bilateralFilter(img,9,75,75)   \n",
        "\n",
        "\n",
        "cv2.imshow(\"Original\", img)\n",
        "cv2.imshow(\"2D filtered\", filt_2D)\n",
        "cv2.imshow(\"Blur\", blur)\n",
        "cv2.imshow(\"Gaussian Blur\", blur_gaussian)\n",
        "cv2.imshow(\"Median Blur\", median_blur)\n",
        "cv2.imshow(\"Bilateral\", bilateral_blur)\n",
        "cv2.waitKey(0)          \n",
        "cv2.destroyAllWindows() "
      ],
      "execution_count": null,
      "outputs": []
    }
  ]
}