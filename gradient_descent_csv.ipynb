{
  "nbformat": 4,
  "nbformat_minor": 0,
  "metadata": {
    "colab": {
      "name": "gradient_descent_csv.ipynb",
      "provenance": [],
      "collapsed_sections": [],
      "authorship_tag": "ABX9TyOTwG+VVHGYVT+wlwGsWb9E",
      "include_colab_link": true
    },
    "kernelspec": {
      "name": "python3",
      "display_name": "Python 3"
    },
    "language_info": {
      "name": "python"
    }
  },
  "cells": [
    {
      "cell_type": "markdown",
      "metadata": {
        "id": "view-in-github",
        "colab_type": "text"
      },
      "source": [
        "<a href=\"https://colab.research.google.com/github/ksshu/Machine_learning/blob/main/gradient_descent_csv.ipynb\" target=\"_parent\"><img src=\"https://colab.research.google.com/assets/colab-badge.svg\" alt=\"Open In Colab\"/></a>"
      ]
    },
    {
      "cell_type": "code",
      "metadata": {
        "id": "lnpjHjAFDG24"
      },
      "source": [
        "import numpy as np\n",
        "import pandas as pd\n",
        "import matplotlib.pyplot as plt\n",
        "from matplotlib import style\n",
        "style.use('fivethirtyeight')\n",
        "import warnings\n",
        "warnings.filterwarnings(\"ignore\")"
      ],
      "execution_count": null,
      "outputs": []
    },
    {
      "cell_type": "code",
      "metadata": {
        "colab": {
          "base_uri": "https://localhost:8080/",
          "height": 205
        },
        "id": "_GBITKPmDKn_",
        "outputId": "69727992-0ad0-43ea-b25b-0f084f1527af"
      },
      "source": [
        "df=pd.read_csv('x and y.csv')\n",
        "df.head()"
      ],
      "execution_count": null,
      "outputs": [
        {
          "output_type": "execute_result",
          "data": {
            "text/html": [
              "<div>\n",
              "<style scoped>\n",
              "    .dataframe tbody tr th:only-of-type {\n",
              "        vertical-align: middle;\n",
              "    }\n",
              "\n",
              "    .dataframe tbody tr th {\n",
              "        vertical-align: top;\n",
              "    }\n",
              "\n",
              "    .dataframe thead th {\n",
              "        text-align: right;\n",
              "    }\n",
              "</style>\n",
              "<table border=\"1\" class=\"dataframe\">\n",
              "  <thead>\n",
              "    <tr style=\"text-align: right;\">\n",
              "      <th></th>\n",
              "      <th>area</th>\n",
              "      <th>price</th>\n",
              "      <th>bedroom</th>\n",
              "    </tr>\n",
              "  </thead>\n",
              "  <tbody>\n",
              "    <tr>\n",
              "      <th>0</th>\n",
              "      <td>9.1</td>\n",
              "      <td>0.99523</td>\n",
              "      <td>2</td>\n",
              "    </tr>\n",
              "    <tr>\n",
              "      <th>1</th>\n",
              "      <td>8.0</td>\n",
              "      <td>0.99007</td>\n",
              "      <td>3</td>\n",
              "    </tr>\n",
              "    <tr>\n",
              "      <th>2</th>\n",
              "      <td>9.1</td>\n",
              "      <td>0.99769</td>\n",
              "      <td>3</td>\n",
              "    </tr>\n",
              "    <tr>\n",
              "      <th>3</th>\n",
              "      <td>8.4</td>\n",
              "      <td>0.99386</td>\n",
              "      <td>3</td>\n",
              "    </tr>\n",
              "    <tr>\n",
              "      <th>4</th>\n",
              "      <td>6.9</td>\n",
              "      <td>0.99508</td>\n",
              "      <td>2</td>\n",
              "    </tr>\n",
              "  </tbody>\n",
              "</table>\n",
              "</div>"
            ],
            "text/plain": [
              "   area    price  bedroom\n",
              "0   9.1  0.99523        2\n",
              "1   8.0  0.99007        3\n",
              "2   9.1  0.99769        3\n",
              "3   8.4  0.99386        3\n",
              "4   6.9  0.99508        2"
            ]
          },
          "metadata": {
            "tags": []
          },
          "execution_count": 27
        }
      ]
    },
    {
      "cell_type": "code",
      "metadata": {
        "id": "LF4CLaOMDKqr"
      },
      "source": [
        "\n",
        "x=np.array(df['area'])\n",
        "y=np.array(df['price'])\n",
        "l=len(x)"
      ],
      "execution_count": null,
      "outputs": []
    },
    {
      "cell_type": "code",
      "metadata": {
        "colab": {
          "base_uri": "https://localhost:8080/"
        },
        "id": "iRC6sECtDKt6",
        "outputId": "579e949c-0669-4609-d597-6f94af19217e"
      },
      "source": [
        "\n",
        "l"
      ],
      "execution_count": null,
      "outputs": [
        {
          "output_type": "execute_result",
          "data": {
            "text/plain": [
              "100"
            ]
          },
          "metadata": {
            "tags": []
          },
          "execution_count": 29
        }
      ]
    },
    {
      "cell_type": "code",
      "metadata": {
        "id": "bLWknXE5DdxN"
      },
      "source": [
        "\n",
        "from sklearn.model_selection import train_test_split"
      ],
      "execution_count": null,
      "outputs": []
    },
    {
      "cell_type": "code",
      "metadata": {
        "id": "U3QCDdqaGUsd"
      },
      "source": [
        "x_train,x_test,y_train,y_test=train_test_split(x,y,random_state=32)\n",
        "lx=len(x_train)"
      ],
      "execution_count": null,
      "outputs": []
    },
    {
      "cell_type": "code",
      "metadata": {
        "id": "wZMKUjttDdzx"
      },
      "source": [
        "m=0.1\n",
        "c=0.01\n",
        "alpha=0.01\n",
        "n=4000\n",
        "for i in range(n):\n",
        "    slope=0\n",
        "    intercept=0\n",
        "    for j in range(lx):\n",
        "        intercept=intercept+((m*x_train[j]+c)-y_train[j])\n",
        "        slope=slope+((m*x_train[j]+c)-y_train[j])*x_train[j]\n",
        "    c=c-alpha*(intercept/lx)\n",
        "    m=m-alpha*(slope/lx)"
      ],
      "execution_count": null,
      "outputs": []
    },
    {
      "cell_type": "code",
      "metadata": {
        "colab": {
          "base_uri": "https://localhost:8080/"
        },
        "id": "cPpCOhYXDd2Y",
        "outputId": "abbbe133-0dcf-4711-dd08-b08447ed051e"
      },
      "source": [
        "print(f\"slope is {m}\")\n",
        "print(f\"intercept is {c}\")"
      ],
      "execution_count": null,
      "outputs": [
        {
          "output_type": "stream",
          "text": [
            "slope is 0.01996878518045732\n",
            "intercept is 0.8267854021576013\n"
          ],
          "name": "stdout"
        }
      ]
    },
    {
      "cell_type": "code",
      "metadata": {
        "colab": {
          "base_uri": "https://localhost:8080/"
        },
        "id": "n8mr_URADd5P",
        "outputId": "ff8c04d3-0987-4132-98ac-80c791687d64"
      },
      "source": [
        "y_pred=np.dot(m,x_test)+c\n",
        "y_pred"
      ],
      "execution_count": null,
      "outputs": [
        {
          "output_type": "execute_result",
          "data": {
            "text/plain": [
              "array([0.95258875, 0.99252632, 0.99652008, 0.94859499, 0.9665669 ,\n",
              "       0.98054505, 0.95059187, 1.02647325, 1.06441395, 1.03046701,\n",
              "       0.93461684, 0.97854817, 1.00650447, 0.93461684, 1.01049823,\n",
              "       1.0124951 , 1.00850135, 0.98054505, 0.96856378, 0.96057626,\n",
              "       0.97655129, 0.9665669 , 0.97255753, 0.96856378, 0.98453881])"
            ]
          },
          "metadata": {
            "tags": []
          },
          "execution_count": 34
        }
      ]
    },
    {
      "cell_type": "code",
      "metadata": {
        "colab": {
          "base_uri": "https://localhost:8080/",
          "height": 325
        },
        "id": "FF2jAdrPDd8A",
        "outputId": "9e5d5b58-6f1e-46bf-8b1d-b5c93b49f9b1"
      },
      "source": [
        "\n",
        "plt.plot(x_test,y_pred,marker='o',\n",
        "         color='blue',markerfacecolor='red',\n",
        "         markersize=10,linestyle='dashed')\n",
        "plt.scatter(x,y,marker='o',color='red')\n",
        "plt.xlabel(\"area\")\n",
        "plt.ylabel(\"price\")\n",
        "plt.title(\"Gradient descent\")\n",
        "plt.show()"
      ],
      "execution_count": null,
      "outputs": [
        {
          "output_type": "display_data",
          "data": {
            "image/png": "[encoded data removed]",
            "text/plain": [
              "<Figure size 432x288 with 1 Axes>"
            ]
          },
          "metadata": {
            "tags": []
          }
        }
      ]
    },
    {
      "cell_type": "code",
      "metadata": {
        "id": "ItzXzPXnDK4F"
      },
      "source": [
        ""
      ],
      "execution_count": null,
      "outputs": []
    }
  ]
}